{
 "cells": [
  {
   "cell_type": "markdown",
   "id": "d09ce3b5",
   "metadata": {},
   "source": [
    "# Analisa Data E-Commerce Olist"
   ]
  },
  {
   "cell_type": "markdown",
   "id": "53733e8f",
   "metadata": {},
   "source": [
    "## 1. Objektif Analisis"
   ]
  },
  {
   "cell_type": "markdown",
   "id": "be355493",
   "metadata": {},
   "source": [
    "Pada project Analisa Data E-Commerce ini dibatasi pada 3 objektif yaitu:\n",
    "1. Mengetahui produk yang paling diminati pelanggan/paling banyak jumlah order nya.\n",
    "2. Mengetahui total omzet penjualan dari tiap kategori produk.\n",
    "3. Mengetahui pertumbuhan pemesanan produk dari tiap 10 produk yang paling diminati."
   ]
  },
  {
   "cell_type": "code",
   "execution_count": 1,
   "id": "6617a2a9",
   "metadata": {},
   "outputs": [],
   "source": [
    "# Import library\n",
    "import sqlite3 as db\n",
    "import pandas as pd\n",
    "import numpy as np\n",
    "import matplotlib.pyplot as plt\n",
    "import seaborn as sns\n",
    "\n",
    "# Membuat koneksi dengan database\n",
    "con = db.connect('F:\\Data Indra\\Project\\Project SQL\\dataset project\\olist.db')"
   ]
  },
  {
   "cell_type": "markdown",
   "id": "cab2d71f",
   "metadata": {},
   "source": [
    "## 2. Data Overview"
   ]
  },
  {
   "cell_type": "markdown",
   "id": "b2428794",
   "metadata": {},
   "source": [
    "**Pemeriksaan awal dataset**"
   ]
  },
  {
   "cell_type": "code",
   "execution_count": 2,
   "id": "efda46bb",
   "metadata": {},
   "outputs": [
    {
     "name": "stdout",
     "output_type": "stream",
     "text": [
      "                                name\n",
      "0       olist_order_customer_dataset\n",
      "1                olist_order_dataset\n",
      "2        olist_order_reviews_dataset\n",
      "3       olist_order_payments_dataset\n",
      "4          olist_order_items_dataset\n",
      "5             olist_products_dataset\n",
      "6              olist_sellers_dataset\n",
      "7          olist_geolocation_dataset\n",
      "8  product_category_name_translation\n"
     ]
    }
   ],
   "source": [
    "#menampilkan daftar tabel dari database menggunakan fungsi read_sql_query() dari pandas\n",
    "df_tables = pd.read_sql_query(\"SELECT name FROM sqlite_master WHERE type='table'\",con)\n",
    "print(df_tables)\n"
   ]
  },
  {
   "cell_type": "markdown",
   "id": "7e6d6ed5",
   "metadata": {},
   "source": [
    "**Pemeriksaan isi masing-masing tabel pada dataset**"
   ]
  },
  {
   "cell_type": "code",
   "execution_count": 3,
   "id": "07566e98",
   "metadata": {},
   "outputs": [
    {
     "name": "stdout",
     "output_type": "stream",
     "text": [
      "['index', 'customer_id', 'customer_unique_id', 'customer_zip_code_prefix', 'customer_city', 'customer_state']\n"
     ]
    }
   ],
   "source": [
    "#untuk mengetahui isi masing-masing tabel pada dataset dibuat dataframe menggunakan pandas \n",
    "#untuk menampilkan nama kolom dari dataframe menggunakan fungsi df.columns\n",
    "\n",
    "#1. membuat dataframe olist_order_customer_dataset menggunakan fungsi read_sql_query() pandas\n",
    "df_order_customer = pd.read_sql_query('SELECT * FROM olist_order_customer_dataset', con)\n",
    "\n",
    "#menampilkan list kolom dari tabel olist_order_customer_dataset\n",
    "print(list(df_order_customer.columns))"
   ]
  },
  {
   "cell_type": "code",
   "execution_count": 34,
   "id": "87103391",
   "metadata": {},
   "outputs": [
    {
     "name": "stdout",
     "output_type": "stream",
     "text": [
      "['index', 'order_id', 'customer_id', 'order_status', 'order_purchase_timestamp', 'order_approved_at', 'order_delivered_carrier_date', 'order_delivered_customer_date', 'order_estimated_delivery_date']\n"
     ]
    }
   ],
   "source": [
    "#2. membuat dataframe olist_order_dataset menggunakan fungsi read_sql_query() pandas\n",
    "df_order = pd.read_sql_query('SELECT * FROM olist_order_dataset', con)\n",
    "#menampilkan list kolom dari tabel olist_order_customer_dataset\n",
    "print(list(df_order.columns))"
   ]
  },
  {
   "cell_type": "code",
   "execution_count": 12,
   "id": "90f07d11",
   "metadata": {},
   "outputs": [
    {
     "name": "stdout",
     "output_type": "stream",
     "text": [
      "['index', 'review_id', 'order_id', 'review_score', 'review_comment_title', 'review_comment_message', 'review_creation_date', 'review_answer_timestamp']\n"
     ]
    }
   ],
   "source": [
    "#3. membuat dataframe olist_order_reviews_dataset menggunakan fungsi read_sql_query() pandas\n",
    "df_order_reviews = pd.read_sql_query('SELECT * FROM olist_order_reviews_dataset', con)\n",
    "\n",
    "#menampilkan list kolom dari tabel olist_order_customer_reviews_dataset\n",
    "print(list(df_order_reviews.columns))"
   ]
  },
  {
   "cell_type": "code",
   "execution_count": 13,
   "id": "948b70b1",
   "metadata": {},
   "outputs": [
    {
     "name": "stdout",
     "output_type": "stream",
     "text": [
      "['index', 'order_id', 'payment_sequential', 'payment_type', 'payment_installments', 'payment_value']\n"
     ]
    }
   ],
   "source": [
    "#4. membuat dataframe olist_order_payments_dataset menggunakan fungsi read_sql_query() pandas\n",
    "df_order_payments = pd.read_sql_query('SELECT * FROM olist_order_payments_dataset', con)\n",
    "\n",
    "#menampilkan list kolom dari tabel olist_order_customer_dataset\n",
    "print(list(df_order_payments.columns))"
   ]
  },
  {
   "cell_type": "code",
   "execution_count": 14,
   "id": "8c685ec1",
   "metadata": {},
   "outputs": [
    {
     "name": "stdout",
     "output_type": "stream",
     "text": [
      "['index', 'order_id', 'order_item_id', 'product_id', 'seller_id', 'shipping_limit_date', 'price', 'freight_value']\n"
     ]
    }
   ],
   "source": [
    "#5. membuat dataframe olist_order_items_dataset menggunakan fungsi read_sql_query() pandas\n",
    "df_order_items = pd.read_sql_query('SELECT * FROM olist_order_items_dataset', con)\n",
    "\n",
    "#menampilkan list kolom dari tabel olist_order_customer_dataset\n",
    "print(list(df_order_items.columns))"
   ]
  },
  {
   "cell_type": "code",
   "execution_count": 15,
   "id": "1bea6731",
   "metadata": {},
   "outputs": [
    {
     "name": "stdout",
     "output_type": "stream",
     "text": [
      "['index', 'product_id', 'product_category_name', 'product_name_lenght', 'product_description_lenght', 'product_photos_qty', 'product_weight_g', 'product_length_cm', 'product_height_cm', 'product_width_cm']\n"
     ]
    }
   ],
   "source": [
    "#6. membuat dataframe olist_products_dataset menggunakan fungsi read_sql_query() pandas\n",
    "df_order_products = pd.read_sql_query('SELECT * FROM olist_products_dataset', con)\n",
    "\n",
    "#menampilkan list kolom dari tabel olist_products_dataset\n",
    "print(list(df_order_products.columns))"
   ]
  },
  {
   "cell_type": "code",
   "execution_count": 16,
   "id": "b3ab6806",
   "metadata": {},
   "outputs": [
    {
     "name": "stdout",
     "output_type": "stream",
     "text": [
      "['index', 'seller_id', 'seller_zip_code_prefix', 'seller_city', 'seller_state']\n"
     ]
    }
   ],
   "source": [
    "#7. membuat dataframe olist_sellers_dataset menggunakan fungsi read_sql_query() pandas\n",
    "df_order_sellers = pd.read_sql_query('SELECT * FROM olist_sellers_dataset', con)\n",
    "\n",
    "#menampilkan list kolom dari tabel olist_products_dataset\n",
    "print(list(df_order_sellers.columns))"
   ]
  },
  {
   "cell_type": "code",
   "execution_count": 17,
   "id": "a92e69af",
   "metadata": {},
   "outputs": [
    {
     "name": "stdout",
     "output_type": "stream",
     "text": [
      "['index', 'geolocation_zip_code_prefix', 'geolocation_lat', 'geolocation_lng', 'geolocation_city', 'geolocation_state']\n"
     ]
    }
   ],
   "source": [
    "#8. membuat dataframe olist_geolocation_dataset menggunakan fungsi read_sql_query() pandas\n",
    "df_order_geolocation = pd.read_sql_query('SELECT * FROM olist_geolocation_dataset', con)\n",
    "\n",
    "#menampilkan list kolom dari tabel olist_geolocation_dataset\n",
    "print(list(df_order_geolocation.columns))"
   ]
  },
  {
   "cell_type": "code",
   "execution_count": 18,
   "id": "3c286c54",
   "metadata": {},
   "outputs": [
    {
     "name": "stdout",
     "output_type": "stream",
     "text": [
      "['index', 'product_category_name', 'product_category_name_english']\n"
     ]
    }
   ],
   "source": [
    "#9. membuat dataframe product_category_name_translation menggunakan fungsi read_sql_query() pandas\n",
    "df_product_category_name = pd.read_sql_query('SELECT * FROM product_category_name_translation', con)\n",
    "\n",
    "#menampilkan list kolom dari tabel product_category_name_translation\n",
    "print(list(df_product_category_name))"
   ]
  },
  {
   "cell_type": "markdown",
   "id": "25d6e000",
   "metadata": {},
   "source": [
    "**Membuat tabel data yang diperlukan untuk menjawab objektif**"
   ]
  },
  {
   "cell_type": "code",
   "execution_count": 4,
   "id": "b4532ede",
   "metadata": {},
   "outputs": [
    {
     "data": {
      "text/html": [
       "<div>\n",
       "<style scoped>\n",
       "    .dataframe tbody tr th:only-of-type {\n",
       "        vertical-align: middle;\n",
       "    }\n",
       "\n",
       "    .dataframe tbody tr th {\n",
       "        vertical-align: top;\n",
       "    }\n",
       "\n",
       "    .dataframe thead th {\n",
       "        text-align: right;\n",
       "    }\n",
       "</style>\n",
       "<table border=\"1\" class=\"dataframe\">\n",
       "  <thead>\n",
       "    <tr style=\"text-align: right;\">\n",
       "      <th></th>\n",
       "      <th>order_id</th>\n",
       "      <th>order_purchase_timestamp</th>\n",
       "      <th>product_id</th>\n",
       "      <th>price</th>\n",
       "      <th>product_category_name</th>\n",
       "      <th>product_category_name_english</th>\n",
       "    </tr>\n",
       "  </thead>\n",
       "  <tbody>\n",
       "    <tr>\n",
       "      <th>0</th>\n",
       "      <td>e481f51cbdc54678b7cc49136f2d6af7</td>\n",
       "      <td>2017-10-02 10:56:33</td>\n",
       "      <td>87285b34884572647811a353c7ac498a</td>\n",
       "      <td>29.99</td>\n",
       "      <td>utilidades_domesticas</td>\n",
       "      <td>housewares</td>\n",
       "    </tr>\n",
       "    <tr>\n",
       "      <th>1</th>\n",
       "      <td>53cdb2fc8bc7dce0b6741e2150273451</td>\n",
       "      <td>2018-07-24 20:41:37</td>\n",
       "      <td>595fac2a385ac33a80bd5114aec74eb8</td>\n",
       "      <td>118.70</td>\n",
       "      <td>perfumaria</td>\n",
       "      <td>perfumery</td>\n",
       "    </tr>\n",
       "    <tr>\n",
       "      <th>2</th>\n",
       "      <td>47770eb9100c2d0c44946d9cf07ec65d</td>\n",
       "      <td>2018-08-08 08:38:49</td>\n",
       "      <td>aa4383b373c6aca5d8797843e5594415</td>\n",
       "      <td>159.90</td>\n",
       "      <td>automotivo</td>\n",
       "      <td>auto</td>\n",
       "    </tr>\n",
       "    <tr>\n",
       "      <th>3</th>\n",
       "      <td>949d5b44dbf5de918fe9c16f97b45f8a</td>\n",
       "      <td>2017-11-18 19:28:06</td>\n",
       "      <td>d0b61bfb1de832b15ba9d266ca96e5b0</td>\n",
       "      <td>45.00</td>\n",
       "      <td>pet_shop</td>\n",
       "      <td>pet_shop</td>\n",
       "    </tr>\n",
       "    <tr>\n",
       "      <th>4</th>\n",
       "      <td>ad21c59c0840e6cb83a9ceb5573f8159</td>\n",
       "      <td>2018-02-13 21:18:39</td>\n",
       "      <td>65266b2da20d04dbe00c5c2d3bb7859e</td>\n",
       "      <td>19.90</td>\n",
       "      <td>papelaria</td>\n",
       "      <td>stationery</td>\n",
       "    </tr>\n",
       "    <tr>\n",
       "      <th>...</th>\n",
       "      <td>...</td>\n",
       "      <td>...</td>\n",
       "      <td>...</td>\n",
       "      <td>...</td>\n",
       "      <td>...</td>\n",
       "      <td>...</td>\n",
       "    </tr>\n",
       "    <tr>\n",
       "      <th>111018</th>\n",
       "      <td>63943bddc261676b46f01ca7ac2f7bd8</td>\n",
       "      <td>2018-02-06 12:58:58</td>\n",
       "      <td>f1d4ce8c6dd66c47bbaa8c6781c2a923</td>\n",
       "      <td>174.90</td>\n",
       "      <td>bebes</td>\n",
       "      <td>baby</td>\n",
       "    </tr>\n",
       "    <tr>\n",
       "      <th>111019</th>\n",
       "      <td>83c1379a015df1e13d02aae0204711ab</td>\n",
       "      <td>2017-08-27 14:46:43</td>\n",
       "      <td>b80910977a37536adeddd63663f916ad</td>\n",
       "      <td>205.99</td>\n",
       "      <td>eletrodomesticos_2</td>\n",
       "      <td>home_appliances_2</td>\n",
       "    </tr>\n",
       "    <tr>\n",
       "      <th>111020</th>\n",
       "      <td>11c177c8e97725db2631073c19f07b62</td>\n",
       "      <td>2018-01-08 21:28:27</td>\n",
       "      <td>d1c427060a0f73f6b889a5c7c61f2ac4</td>\n",
       "      <td>179.99</td>\n",
       "      <td>informatica_acessorios</td>\n",
       "      <td>computers_accessories</td>\n",
       "    </tr>\n",
       "    <tr>\n",
       "      <th>111021</th>\n",
       "      <td>11c177c8e97725db2631073c19f07b62</td>\n",
       "      <td>2018-01-08 21:28:27</td>\n",
       "      <td>d1c427060a0f73f6b889a5c7c61f2ac4</td>\n",
       "      <td>179.99</td>\n",
       "      <td>informatica_acessorios</td>\n",
       "      <td>computers_accessories</td>\n",
       "    </tr>\n",
       "    <tr>\n",
       "      <th>111022</th>\n",
       "      <td>66dea50a8b16d9b4dee7af250b4be1a5</td>\n",
       "      <td>2018-03-08 20:57:30</td>\n",
       "      <td>006619bbed68b000c8ba3f8725d5409e</td>\n",
       "      <td>68.50</td>\n",
       "      <td>beleza_saude</td>\n",
       "      <td>health_beauty</td>\n",
       "    </tr>\n",
       "  </tbody>\n",
       "</table>\n",
       "<p>111023 rows × 6 columns</p>\n",
       "</div>"
      ],
      "text/plain": [
       "                                order_id order_purchase_timestamp  \\\n",
       "0       e481f51cbdc54678b7cc49136f2d6af7      2017-10-02 10:56:33   \n",
       "1       53cdb2fc8bc7dce0b6741e2150273451      2018-07-24 20:41:37   \n",
       "2       47770eb9100c2d0c44946d9cf07ec65d      2018-08-08 08:38:49   \n",
       "3       949d5b44dbf5de918fe9c16f97b45f8a      2017-11-18 19:28:06   \n",
       "4       ad21c59c0840e6cb83a9ceb5573f8159      2018-02-13 21:18:39   \n",
       "...                                  ...                      ...   \n",
       "111018  63943bddc261676b46f01ca7ac2f7bd8      2018-02-06 12:58:58   \n",
       "111019  83c1379a015df1e13d02aae0204711ab      2017-08-27 14:46:43   \n",
       "111020  11c177c8e97725db2631073c19f07b62      2018-01-08 21:28:27   \n",
       "111021  11c177c8e97725db2631073c19f07b62      2018-01-08 21:28:27   \n",
       "111022  66dea50a8b16d9b4dee7af250b4be1a5      2018-03-08 20:57:30   \n",
       "\n",
       "                              product_id   price   product_category_name  \\\n",
       "0       87285b34884572647811a353c7ac498a   29.99   utilidades_domesticas   \n",
       "1       595fac2a385ac33a80bd5114aec74eb8  118.70              perfumaria   \n",
       "2       aa4383b373c6aca5d8797843e5594415  159.90              automotivo   \n",
       "3       d0b61bfb1de832b15ba9d266ca96e5b0   45.00                pet_shop   \n",
       "4       65266b2da20d04dbe00c5c2d3bb7859e   19.90               papelaria   \n",
       "...                                  ...     ...                     ...   \n",
       "111018  f1d4ce8c6dd66c47bbaa8c6781c2a923  174.90                   bebes   \n",
       "111019  b80910977a37536adeddd63663f916ad  205.99      eletrodomesticos_2   \n",
       "111020  d1c427060a0f73f6b889a5c7c61f2ac4  179.99  informatica_acessorios   \n",
       "111021  d1c427060a0f73f6b889a5c7c61f2ac4  179.99  informatica_acessorios   \n",
       "111022  006619bbed68b000c8ba3f8725d5409e   68.50            beleza_saude   \n",
       "\n",
       "       product_category_name_english  \n",
       "0                         housewares  \n",
       "1                          perfumery  \n",
       "2                               auto  \n",
       "3                           pet_shop  \n",
       "4                         stationery  \n",
       "...                              ...  \n",
       "111018                          baby  \n",
       "111019             home_appliances_2  \n",
       "111020         computers_accessories  \n",
       "111021         computers_accessories  \n",
       "111022                 health_beauty  \n",
       "\n",
       "[111023 rows x 6 columns]"
      ]
     },
     "execution_count": 4,
     "metadata": {},
     "output_type": "execute_result"
    }
   ],
   "source": [
    "#membuat dataframe untuk tabel dan kolom yang diperlukan untuk menjawab objektif\n",
    "df_order_use = pd.read_sql_query(\"SELECT order_id, order_purchase_timestamp FROM olist_order_dataset\", con)\n",
    "df_order_items_use = pd.read_sql_query(\"SELECT order_id, product_id, price FROM olist_order_items_dataset\", con)\n",
    "df_product_use = pd.read_sql_query(\"SELECT product_id, product_category_name FROM olist_products_dataset\", con)\n",
    "df_product_english = pd.read_sql_query(\"SELECT product_category_name, product_category_name_english FROM product_category_name_translation\", con)\n",
    "\n",
    "#menggabungkan semua tabel yang diperlukan (sesuai objektif) secara bertahap sesuai relasinya\n",
    "#1.menggabungkan tabel df_product_use dan df_product_english\n",
    "product_use_english = pd.merge(df_product_use, df_product_english, on='product_category_name')\n",
    "\n",
    "#2.menggabungkan tabel df_order_items_use dan df_product_use_english\n",
    "order_items_use_product = pd.merge(df_order_items_use, product_use_english, on='product_id')\n",
    "\n",
    "#3.menggabungkan tabel df_order_use dan order_items_use_product\n",
    "olist_analysis_dataset = pd.merge(df_order_use, order_items_use_product, on='order_id')\n",
    "\n",
    "#4. Menggandakan olist_analysis_dataset untuk back up jika ada salah proses data\n",
    "olist_dataset_use = olist_analysis_dataset.copy()\n",
    "olist_dataset_use\n"
   ]
  },
  {
   "cell_type": "markdown",
   "id": "6b2e5f6a",
   "metadata": {},
   "source": [
    "## 3. Eksplorasi dan Pemrosesan Data"
   ]
  },
  {
   "cell_type": "code",
   "execution_count": 5,
   "id": "ce87df00",
   "metadata": {
    "scrolled": true
   },
   "outputs": [
    {
     "name": "stdout",
     "output_type": "stream",
     "text": [
      "<class 'pandas.core.frame.DataFrame'>\n",
      "Int64Index: 111023 entries, 0 to 111022\n",
      "Data columns (total 6 columns):\n",
      " #   Column                         Non-Null Count   Dtype  \n",
      "---  ------                         --------------   -----  \n",
      " 0   order_id                       111023 non-null  object \n",
      " 1   order_purchase_timestamp       111023 non-null  object \n",
      " 2   product_id                     111023 non-null  object \n",
      " 3   price                          111023 non-null  float64\n",
      " 4   product_category_name          111023 non-null  object \n",
      " 5   product_category_name_english  111023 non-null  object \n",
      "dtypes: float64(1), object(5)\n",
      "memory usage: 5.9+ MB\n",
      "None\n"
     ]
    }
   ],
   "source": [
    "#Pemeriksaan missing value (null), duplicate data, outlier, dan inconsistent format\n",
    "#menampilkan info dataset\n",
    "print(olist_dataset_use.info())"
   ]
  },
  {
   "cell_type": "code",
   "execution_count": 6,
   "id": "df6c08b9",
   "metadata": {},
   "outputs": [
    {
     "name": "stdout",
     "output_type": "stream",
     "text": [
      "Empty DataFrame\n",
      "Columns: [NaN_count, NaN_percentage]\n",
      "Index: []\n"
     ]
    }
   ],
   "source": [
    "#1. memeriksa missing value\n",
    "#jumlahkan semua missing value (null) pada dataset pisahkan dari Non-Null\n",
    "missing = olist_dataset_use.isnull().sum()[olist_dataset_use.isnull().sum() > 0]\n",
    "\n",
    "#membuat dataframe Nan_count dan NAN_percentage\n",
    "missing_olist_dataset_use = pd.DataFrame({'NaN_count': missing, 'NaN_percentage': missing/ len(olist_dataset_use)}).sort_values(by = 'NaN_percentage')\n",
    "\n",
    "#menampilkan dataframe\n",
    "print(missing_olist_dataset_use)"
   ]
  },
  {
   "cell_type": "code",
   "execution_count": 11,
   "id": "108cf65f",
   "metadata": {},
   "outputs": [
    {
     "data": {
      "image/png": "[encoded data removed]",
      "text/plain": [
       "<Figure size 800x400 with 1 Axes>"
      ]
     },
     "metadata": {},
     "output_type": "display_data"
    }
   ],
   "source": [
    "# Visualisasi missing value\n",
    "plt.figure(figsize=(8, 4))\n",
    "sns.heatmap(olist_dataset_use.isnull(), yticklabels=False, cbar=False, cmap='viridis')\n",
    "plt.title(\"Missing Value\")\n",
    "plt.show()"
   ]
  },
  {
   "cell_type": "markdown",
   "id": "1ee18b55",
   "metadata": {},
   "source": [
    "Kesimpulan: berdasarkan info dataset, pemeriksaan missing value (null value) dan visualisasi heatmap dipastikan tidak ada null value pada olist_dataset_use."
   ]
  },
  {
   "cell_type": "code",
   "execution_count": 26,
   "id": "1739762b",
   "metadata": {},
   "outputs": [
    {
     "name": "stdout",
     "output_type": "stream",
     "text": [
      "10080\n"
     ]
    }
   ],
   "source": [
    "#2. memeriksa data duplicate\n",
    "print(olist_dataset_use.duplicated().sum())"
   ]
  },
  {
   "cell_type": "code",
   "execution_count": 5,
   "id": "c0bab2c6",
   "metadata": {},
   "outputs": [
    {
     "data": {
      "text/html": [
       "<div>\n",
       "<style scoped>\n",
       "    .dataframe tbody tr th:only-of-type {\n",
       "        vertical-align: middle;\n",
       "    }\n",
       "\n",
       "    .dataframe tbody tr th {\n",
       "        vertical-align: top;\n",
       "    }\n",
       "\n",
       "    .dataframe thead th {\n",
       "        text-align: right;\n",
       "    }\n",
       "</style>\n",
       "<table border=\"1\" class=\"dataframe\">\n",
       "  <thead>\n",
       "    <tr style=\"text-align: right;\">\n",
       "      <th></th>\n",
       "      <th>duplicated_count</th>\n",
       "      <th>duplicated_percentage</th>\n",
       "    </tr>\n",
       "  </thead>\n",
       "  <tbody>\n",
       "    <tr>\n",
       "      <th>0</th>\n",
       "      <td>10080</td>\n",
       "      <td>0.090792</td>\n",
       "    </tr>\n",
       "  </tbody>\n",
       "</table>\n",
       "</div>"
      ],
      "text/plain": [
       "   duplicated_count  duplicated_percentage\n",
       "0             10080               0.090792"
      ]
     },
     "execution_count": 5,
     "metadata": {},
     "output_type": "execute_result"
    }
   ],
   "source": [
    "#jumlahkan semua data duplicate pada dataset pisahkan dari Non-duplicate\n",
    "duplicated_data = olist_dataset_use.duplicated().sum()[olist_dataset_use.duplicated().sum() > 0]\n",
    "#membuat dataframe duplicate dan duplicate_percentage\n",
    "duplicated_olist_dataset_use = pd.DataFrame({'duplicated_count': duplicated_data, 'duplicated_percentage': duplicated_data/ len(olist_dataset_use)})\n",
    "duplicated_olist_dataset_use"
   ]
  },
  {
   "cell_type": "code",
   "execution_count": 27,
   "id": "40c940be",
   "metadata": {},
   "outputs": [
    {
     "name": "stdout",
     "output_type": "stream",
     "text": [
      "                                order_id order_purchase_timestamp  \\\n",
      "10      e6ce16cb79ec1d90b1da9085a6118aeb      2017-05-16 19:41:10   \n",
      "54      9faeb9b2746b9d7526aef5acb08e2aa0      2018-07-26 14:39:59   \n",
      "60      66e4624ae69e7dc89bd50222b59f581f      2018-03-09 14:50:15   \n",
      "70      f271576bed568e896f99eb710cd3a6f8      2018-01-07 21:44:54   \n",
      "73      68e48e68da1f50f7c5838ea75e3a20dd      2018-06-18 16:02:23   \n",
      "...                                  ...                      ...   \n",
      "110945  dbd4cbb492a12b99c5224014930acc18      2017-03-26 14:12:46   \n",
      "110968  83db27f85506380229913b0dfdf5cd18      2018-04-18 12:35:58   \n",
      "110976  b3112ca67f3afd4e20cf2ee91fc4f804      2018-08-02 22:46:54   \n",
      "110995  e8fd20068b9f7e6ec07068bb7537f781      2017-08-10 21:21:07   \n",
      "111021  11c177c8e97725db2631073c19f07b62      2018-01-08 21:28:27   \n",
      "\n",
      "                              product_id   price  \\\n",
      "10      08574b074924071f4e201e151b152b4e   99.00   \n",
      "54      f48eb5c2fde13ca63664f0bb05f55346   60.00   \n",
      "60      b37b72d5a56f887725c2862184b8cab8   22.99   \n",
      "70      d457916b4fdc60154ed93b5dd3e6fd69  329.90   \n",
      "73      a659cb33082b851fb87a33af8f0fff29   84.90   \n",
      "...                                  ...     ...   \n",
      "110945  d34efb58e1930773fcde9b951892b1b1   37.40   \n",
      "110968  86f2416d4670e4ea3ca5494d043d9f24  149.94   \n",
      "110976  4f18ca9862f511ecba98258b2194d061   95.00   \n",
      "110995  0df37da38a30a713453b03053d60d3f7  356.00   \n",
      "111021  d1c427060a0f73f6b889a5c7c61f2ac4  179.99   \n",
      "\n",
      "                    product_category_name    product_category_name_english  \n",
      "10                     ferramentas_jardim                     garden_tools  \n",
      "54                          esporte_lazer                   sports_leisure  \n",
      "60                              telefonia                        telephony  \n",
      "70      construcao_ferramentas_construcao  construction_tools_construction  \n",
      "73                             automotivo                             auto  \n",
      "...                                   ...                              ...  \n",
      "110945              utilidades_domesticas                       housewares  \n",
      "110968                  moveis_escritorio                 office_furniture  \n",
      "110976                      moveis_quarto                furniture_bedroom  \n",
      "110995                      esporte_lazer                   sports_leisure  \n",
      "111021             informatica_acessorios            computers_accessories  \n",
      "\n",
      "[10080 rows x 6 columns]\n"
     ]
    }
   ],
   "source": [
    "duplicateRows = olist_dataset_use[olist_dataset_use.duplicated(['order_id', 'product_id', 'order_purchase_timestamp'])]\n",
    "print(duplicateRows)"
   ]
  },
  {
   "cell_type": "markdown",
   "id": "c1aea2ac",
   "metadata": {},
   "source": [
    "kesimpulan: Dari hasil pemeriksaan duplikasi data terlihat ada 10080 baris data yang sama dengan baris data sebelumnya.\n",
    "Data duplikat ini selanjutnya akan ditangani dengan cara dihilangkan menggunakan fungsi drop_duplicates()"
   ]
  },
  {
   "cell_type": "code",
   "execution_count": 9,
   "id": "09d775f6",
   "metadata": {},
   "outputs": [
    {
     "name": "stdout",
     "output_type": "stream",
     "text": [
      "Jumlah data duplikat sebelum ditangani = 10080.\n",
      "Jumlah data duplikat setelah ditangani = 0.\n"
     ]
    }
   ],
   "source": [
    "#Menangani Duplicate Data menggunakan fungsi drop_duplicates()\n",
    "#menggandakan olist_dataset_use untuk backup jika terjadi kesalahan proses\n",
    "olist_dataset_use2 = olist_dataset_use.copy()\n",
    "\n",
    "#menghilangkan data duplicated dengan nilai order_id, product_id dan timestamp pembelian yang sama dan menjaga data yang pertama muncul.\n",
    "olist_dataset_use2 = olist_dataset_use2.drop_duplicates(subset=['order_id', 'product_id', 'order_purchase_timestamp'], keep='first')\n",
    "\n",
    "#memeriksa kembali kemungkinan dupliasi data\n",
    "duplicated_check = olist_dataset_use.duplicated().sum()\n",
    "duplicated_drop_check = olist_dataset_use2.duplicated().sum()\n",
    "\n",
    "print(f'Jumlah data duplikat sebelum ditangani = {duplicated_check}.')\n",
    "print(f'Jumlah data duplikat setelah ditangani = {duplicated_drop_check}.')\n"
   ]
  },
  {
   "cell_type": "markdown",
   "id": "d90b438f",
   "metadata": {},
   "source": [
    "Kesimpulan: berdasarkan pemeriksaan kembali hasil penanganan data duplikat dari dataset olist_dataset_use2 tidak ada lagi duplikasi data."
   ]
  },
  {
   "cell_type": "code",
   "execution_count": 32,
   "id": "87043049",
   "metadata": {},
   "outputs": [
    {
     "data": {
      "image/png": "[encoded data removed]",
      "text/plain": [
       "<Figure size 800x600 with 1 Axes>"
      ]
     },
     "metadata": {},
     "output_type": "display_data"
    }
   ],
   "source": [
    "#3. memeriksa outlier\n",
    "# Membuat plot histogram distribusi harga menggunakan matplotlib\n",
    "plt.figure(figsize=(8, 6))\n",
    "sns.histplot(olist_dataset_use2['price'], kde=True)\n",
    "plt.title(\"Histogram Distribusi Harga Awal\")\n",
    "plt.show()\n"
   ]
  },
  {
   "cell_type": "markdown",
   "id": "5a022bd9",
   "metadata": {},
   "source": [
    "Dari histogram terlihat grafiknya distibusinya skew (mengekor) ke kanan dan cukup jauh dari puncaknya, menandakan adanya outlier. Untuk menanganinya digunakan metode IQR."
   ]
  },
  {
   "cell_type": "code",
   "execution_count": 10,
   "id": "aed22997",
   "metadata": {},
   "outputs": [
    {
     "data": {
      "image/png": "[encoded data removed]",
      "text/plain": [
       "<Figure size 800x600 with 1 Axes>"
      ]
     },
     "metadata": {},
     "output_type": "display_data"
    }
   ],
   "source": [
    "# Menangani Outliers menggunakan metode IQR \n",
    "# Menggandakan olist_dataset_use2 untuk back up jika terjadi kesalahan proses\n",
    "olist_dataset_use3 = olist_dataset_use2.copy()\n",
    "\n",
    "Q1 = olist_dataset_use3['price'].quantile(0.25)\n",
    "Q3 = olist_dataset_use3['price'].quantile(0.75)\n",
    "IQR = Q3 - Q1\n",
    "price_outliers = olist_dataset_use3[(olist_dataset_use3['price'] < (Q1 - 1.5 * IQR)) | (olist_dataset_use3['price'] > (Q3 + 1.5 * IQR))]\n",
    "olist_dataset_use3 = olist_dataset_use3[~olist_dataset_use3.index.isin(price_outliers.index)]\n",
    "\n",
    "# Visualisasi distribusi harga setelah menangani outlier\n",
    "plt.figure(figsize=(8, 6))\n",
    "sns.histplot(olist_dataset_use3['price'], kde=True)\n",
    "plt.title(\"Distribusi Harga Tanpa Outlier\")\n",
    "plt.show()"
   ]
  },
  {
   "cell_type": "markdown",
   "id": "66c242a2",
   "metadata": {},
   "source": [
    "Dari histogram terlihat grafiknya distibusinya sudah mendekati normal, menandakan outlier sudah ditangani dengan baik."
   ]
  },
  {
   "cell_type": "code",
   "execution_count": 11,
   "id": "5017261b",
   "metadata": {},
   "outputs": [
    {
     "name": "stdout",
     "output_type": "stream",
     "text": [
      "<class 'pandas.core.frame.DataFrame'>\n",
      "Int64Index: 93302 entries, 0 to 111022\n",
      "Data columns (total 6 columns):\n",
      " #   Column                         Non-Null Count  Dtype  \n",
      "---  ------                         --------------  -----  \n",
      " 0   order_id                       93302 non-null  object \n",
      " 1   order_purchase_timestamp       93302 non-null  object \n",
      " 2   product_id                     93302 non-null  object \n",
      " 3   price                          93302 non-null  float64\n",
      " 4   product_category_name          93302 non-null  object \n",
      " 5   product_category_name_english  93302 non-null  object \n",
      "dtypes: float64(1), object(5)\n",
      "memory usage: 5.0+ MB\n",
      "None\n"
     ]
    },
    {
     "data": {
      "text/html": [
       "<div>\n",
       "<style scoped>\n",
       "    .dataframe tbody tr th:only-of-type {\n",
       "        vertical-align: middle;\n",
       "    }\n",
       "\n",
       "    .dataframe tbody tr th {\n",
       "        vertical-align: top;\n",
       "    }\n",
       "\n",
       "    .dataframe thead th {\n",
       "        text-align: right;\n",
       "    }\n",
       "</style>\n",
       "<table border=\"1\" class=\"dataframe\">\n",
       "  <thead>\n",
       "    <tr style=\"text-align: right;\">\n",
       "      <th></th>\n",
       "      <th>order_id</th>\n",
       "      <th>order_purchase_timestamp</th>\n",
       "      <th>product_id</th>\n",
       "      <th>price</th>\n",
       "      <th>product_category_name</th>\n",
       "      <th>product_category_name_english</th>\n",
       "    </tr>\n",
       "  </thead>\n",
       "  <tbody>\n",
       "    <tr>\n",
       "      <th>0</th>\n",
       "      <td>e481f51cbdc54678b7cc49136f2d6af7</td>\n",
       "      <td>2017-10-02 10:56:33</td>\n",
       "      <td>87285b34884572647811a353c7ac498a</td>\n",
       "      <td>29.99</td>\n",
       "      <td>utilidades_domesticas</td>\n",
       "      <td>housewares</td>\n",
       "    </tr>\n",
       "    <tr>\n",
       "      <th>1</th>\n",
       "      <td>53cdb2fc8bc7dce0b6741e2150273451</td>\n",
       "      <td>2018-07-24 20:41:37</td>\n",
       "      <td>595fac2a385ac33a80bd5114aec74eb8</td>\n",
       "      <td>118.70</td>\n",
       "      <td>perfumaria</td>\n",
       "      <td>perfumery</td>\n",
       "    </tr>\n",
       "    <tr>\n",
       "      <th>2</th>\n",
       "      <td>47770eb9100c2d0c44946d9cf07ec65d</td>\n",
       "      <td>2018-08-08 08:38:49</td>\n",
       "      <td>aa4383b373c6aca5d8797843e5594415</td>\n",
       "      <td>159.90</td>\n",
       "      <td>automotivo</td>\n",
       "      <td>auto</td>\n",
       "    </tr>\n",
       "    <tr>\n",
       "      <th>3</th>\n",
       "      <td>949d5b44dbf5de918fe9c16f97b45f8a</td>\n",
       "      <td>2017-11-18 19:28:06</td>\n",
       "      <td>d0b61bfb1de832b15ba9d266ca96e5b0</td>\n",
       "      <td>45.00</td>\n",
       "      <td>pet_shop</td>\n",
       "      <td>pet_shop</td>\n",
       "    </tr>\n",
       "    <tr>\n",
       "      <th>4</th>\n",
       "      <td>ad21c59c0840e6cb83a9ceb5573f8159</td>\n",
       "      <td>2018-02-13 21:18:39</td>\n",
       "      <td>65266b2da20d04dbe00c5c2d3bb7859e</td>\n",
       "      <td>19.90</td>\n",
       "      <td>papelaria</td>\n",
       "      <td>stationery</td>\n",
       "    </tr>\n",
       "    <tr>\n",
       "      <th>...</th>\n",
       "      <td>...</td>\n",
       "      <td>...</td>\n",
       "      <td>...</td>\n",
       "      <td>...</td>\n",
       "      <td>...</td>\n",
       "      <td>...</td>\n",
       "    </tr>\n",
       "    <tr>\n",
       "      <th>111017</th>\n",
       "      <td>9c5dedf39a927c1b2549525ed64a053c</td>\n",
       "      <td>2017-03-09 09:54:05</td>\n",
       "      <td>ac35486adb7b02598c182c2ff2e05254</td>\n",
       "      <td>72.00</td>\n",
       "      <td>beleza_saude</td>\n",
       "      <td>health_beauty</td>\n",
       "    </tr>\n",
       "    <tr>\n",
       "      <th>111018</th>\n",
       "      <td>63943bddc261676b46f01ca7ac2f7bd8</td>\n",
       "      <td>2018-02-06 12:58:58</td>\n",
       "      <td>f1d4ce8c6dd66c47bbaa8c6781c2a923</td>\n",
       "      <td>174.90</td>\n",
       "      <td>bebes</td>\n",
       "      <td>baby</td>\n",
       "    </tr>\n",
       "    <tr>\n",
       "      <th>111019</th>\n",
       "      <td>83c1379a015df1e13d02aae0204711ab</td>\n",
       "      <td>2017-08-27 14:46:43</td>\n",
       "      <td>b80910977a37536adeddd63663f916ad</td>\n",
       "      <td>205.99</td>\n",
       "      <td>eletrodomesticos_2</td>\n",
       "      <td>home_appliances_2</td>\n",
       "    </tr>\n",
       "    <tr>\n",
       "      <th>111020</th>\n",
       "      <td>11c177c8e97725db2631073c19f07b62</td>\n",
       "      <td>2018-01-08 21:28:27</td>\n",
       "      <td>d1c427060a0f73f6b889a5c7c61f2ac4</td>\n",
       "      <td>179.99</td>\n",
       "      <td>informatica_acessorios</td>\n",
       "      <td>computers_accessories</td>\n",
       "    </tr>\n",
       "    <tr>\n",
       "      <th>111022</th>\n",
       "      <td>66dea50a8b16d9b4dee7af250b4be1a5</td>\n",
       "      <td>2018-03-08 20:57:30</td>\n",
       "      <td>006619bbed68b000c8ba3f8725d5409e</td>\n",
       "      <td>68.50</td>\n",
       "      <td>beleza_saude</td>\n",
       "      <td>health_beauty</td>\n",
       "    </tr>\n",
       "  </tbody>\n",
       "</table>\n",
       "<p>93302 rows × 6 columns</p>\n",
       "</div>"
      ],
      "text/plain": [
       "                                order_id order_purchase_timestamp  \\\n",
       "0       e481f51cbdc54678b7cc49136f2d6af7      2017-10-02 10:56:33   \n",
       "1       53cdb2fc8bc7dce0b6741e2150273451      2018-07-24 20:41:37   \n",
       "2       47770eb9100c2d0c44946d9cf07ec65d      2018-08-08 08:38:49   \n",
       "3       949d5b44dbf5de918fe9c16f97b45f8a      2017-11-18 19:28:06   \n",
       "4       ad21c59c0840e6cb83a9ceb5573f8159      2018-02-13 21:18:39   \n",
       "...                                  ...                      ...   \n",
       "111017  9c5dedf39a927c1b2549525ed64a053c      2017-03-09 09:54:05   \n",
       "111018  63943bddc261676b46f01ca7ac2f7bd8      2018-02-06 12:58:58   \n",
       "111019  83c1379a015df1e13d02aae0204711ab      2017-08-27 14:46:43   \n",
       "111020  11c177c8e97725db2631073c19f07b62      2018-01-08 21:28:27   \n",
       "111022  66dea50a8b16d9b4dee7af250b4be1a5      2018-03-08 20:57:30   \n",
       "\n",
       "                              product_id   price   product_category_name  \\\n",
       "0       87285b34884572647811a353c7ac498a   29.99   utilidades_domesticas   \n",
       "1       595fac2a385ac33a80bd5114aec74eb8  118.70              perfumaria   \n",
       "2       aa4383b373c6aca5d8797843e5594415  159.90              automotivo   \n",
       "3       d0b61bfb1de832b15ba9d266ca96e5b0   45.00                pet_shop   \n",
       "4       65266b2da20d04dbe00c5c2d3bb7859e   19.90               papelaria   \n",
       "...                                  ...     ...                     ...   \n",
       "111017  ac35486adb7b02598c182c2ff2e05254   72.00            beleza_saude   \n",
       "111018  f1d4ce8c6dd66c47bbaa8c6781c2a923  174.90                   bebes   \n",
       "111019  b80910977a37536adeddd63663f916ad  205.99      eletrodomesticos_2   \n",
       "111020  d1c427060a0f73f6b889a5c7c61f2ac4  179.99  informatica_acessorios   \n",
       "111022  006619bbed68b000c8ba3f8725d5409e   68.50            beleza_saude   \n",
       "\n",
       "       product_category_name_english  \n",
       "0                         housewares  \n",
       "1                          perfumery  \n",
       "2                               auto  \n",
       "3                           pet_shop  \n",
       "4                         stationery  \n",
       "...                              ...  \n",
       "111017                 health_beauty  \n",
       "111018                          baby  \n",
       "111019             home_appliances_2  \n",
       "111020         computers_accessories  \n",
       "111022                 health_beauty  \n",
       "\n",
       "[93302 rows x 6 columns]"
      ]
     },
     "execution_count": 11,
     "metadata": {},
     "output_type": "execute_result"
    }
   ],
   "source": [
    "#4. memeriksa Inconsistent Format :\n",
    "#menampilkan info dataset\n",
    "print(olist_dataset_use3.info())\n",
    "olist_dataset_use3"
   ]
  },
  {
   "cell_type": "markdown",
   "id": "3f21a0e1",
   "metadata": {},
   "source": [
    "Dari info dataset dan tampilan isi tabel, kolom order_purchase_timestamp bertipe datetime namun masih tertulis object.\n",
    "Untuk menanganinya dengan mengubah type datanya dengan fungsi to_datetime() pandas. "
   ]
  },
  {
   "cell_type": "code",
   "execution_count": 12,
   "id": "1e1b32ec",
   "metadata": {},
   "outputs": [],
   "source": [
    "# Menangani Inconsistent (mengubah type data kolom order_purchase_timestamp menjadi datetime)\n",
    "# menggandakan olist_dataset_use3 untuk back up jika salah proses data.\n",
    "olist_dataset_use4 = olist_dataset_use3.copy()\n",
    "\n",
    "olist_dataset_use4['order_purchase_timestamp'] = pd.to_datetime(olist_dataset_use4 ['order_purchase_timestamp'])"
   ]
  },
  {
   "cell_type": "code",
   "execution_count": 13,
   "id": "a54c7f91",
   "metadata": {},
   "outputs": [
    {
     "name": "stdout",
     "output_type": "stream",
     "text": [
      "<class 'pandas.core.frame.DataFrame'>\n",
      "Int64Index: 93302 entries, 0 to 111022\n",
      "Data columns (total 6 columns):\n",
      " #   Column                         Non-Null Count  Dtype         \n",
      "---  ------                         --------------  -----         \n",
      " 0   order_id                       93302 non-null  object        \n",
      " 1   order_purchase_timestamp       93302 non-null  datetime64[ns]\n",
      " 2   product_id                     93302 non-null  object        \n",
      " 3   price                          93302 non-null  float64       \n",
      " 4   product_category_name          93302 non-null  object        \n",
      " 5   product_category_name_english  93302 non-null  object        \n",
      "dtypes: datetime64[ns](1), float64(1), object(4)\n",
      "memory usage: 5.0+ MB\n",
      "None\n"
     ]
    }
   ],
   "source": [
    "#menampilkan info dataset setelah perubahan type data \n",
    "print(olist_dataset_use4.info())"
   ]
  },
  {
   "cell_type": "markdown",
   "id": "94f5ddea",
   "metadata": {},
   "source": [
    "Dari info diatas type data order_purchase_timestamp sudah berubah menjadi datetime64[ns], maka inconsistent format sudah tertangani. Untuk selanjutnya dataset olist_dataset_use4 bisa digunakan untuk menjawab objektif."
   ]
  },
  {
   "cell_type": "markdown",
   "id": "5b3e3822",
   "metadata": {},
   "source": [
    "## 4.\tAnalisa Data"
   ]
  },
  {
   "cell_type": "markdown",
   "id": "4d871135",
   "metadata": {},
   "source": [
    "### 1. Mengetahui produk yang paling diminati pelanggan"
   ]
  },
  {
   "cell_type": "code",
   "execution_count": 14,
   "id": "696c76fb",
   "metadata": {},
   "outputs": [
    {
     "name": "stdout",
     "output_type": "stream",
     "text": [
      "   product_category_name_english  order_id\n",
      "7                 bed_bath_table      9996\n",
      "43                 health_beauty      7911\n",
      "65                sports_leisure      7425\n",
      "15         computers_accessories      6556\n",
      "39               furniture_decor      6549\n",
      "49                    housewares      5740\n",
      "70                 watches_gifts      4888\n",
      "68                     telephony      4092\n",
      "69                          toys      3652\n",
      "5                           auto      3609\n"
     ]
    }
   ],
   "source": [
    "# menghitung jumlah pembelian per kategori produk\n",
    "ordered_product_count = olist_dataset_use4.groupby(['product_category_name_english'])['order_id'].count().reset_index()\n",
    "\n",
    "# menyusun top 10 kategori produk yang diminati berdasarkan jumlah pembelian\n",
    "top10_popular_product = ordered_product_count.sort_values('order_id', ascending=False).head(10)\n",
    "\n",
    "#menampilkan hasil top 10 kategori produk paling diminati\n",
    "print(top10_popular_product)"
   ]
  },
  {
   "cell_type": "code",
   "execution_count": 15,
   "id": "6c80ce71",
   "metadata": {},
   "outputs": [
    {
     "data": {
      "text/plain": [
       "[Text(0, 0.5, 'Kategori Produk')]"
      ]
     },
     "execution_count": 15,
     "metadata": {},
     "output_type": "execute_result"
    },
    {
     "data": {
      "image/png": "[encoded data removed]",
      "text/plain": [
       "<Figure size 800x1500 with 1 Axes>"
      ]
     },
     "metadata": {},
     "output_type": "display_data"
    }
   ],
   "source": [
    "# membuat visualisasi horizontal bar plot top 10 produk populer menggunakan library matplotlib \n",
    "\n",
    "fig, ax = plt.subplots(figsize=(8, 15))\n",
    "\n",
    "ax = sns.barplot(data=top10_popular_product, y='product_category_name_english', x='order_id',\n",
    "                 orient='h',\n",
    "                 order=top10_popular_product.sort_values('order_id', ascending=False).product_category_name_english)\n",
    "\n",
    "for i in ax.containers:\n",
    "    ax.bar_label(i,)\n",
    "\n",
    "sns.despine()\n",
    "ax.set(title='Jumlah Pembelian Kategori Produk')\n",
    "ax.set(xlabel=None)\n",
    "ax.set(xticks=[])\n",
    "ax.set(ylabel='Kategori Produk')"
   ]
  },
  {
   "cell_type": "markdown",
   "id": "e6508f85",
   "metadata": {},
   "source": [
    "Dari hasil perhitungan dan grafik terlihat top 10 produk yang diminati, dimana kategori produk bed_bath_table adalah no 1 paling diminati pelanggan."
   ]
  },
  {
   "cell_type": "markdown",
   "id": "a8dffcf7",
   "metadata": {},
   "source": [
    "### 2. Mengetahui total omzet penjualan tiap kategori produk"
   ]
  },
  {
   "cell_type": "code",
   "execution_count": 16,
   "id": "88eee2eb",
   "metadata": {},
   "outputs": [
    {
     "name": "stdout",
     "output_type": "stream",
     "text": [
      "      product_category_name_english   price  order_id\n",
      "0        agro_industry_and_commerce   12.99         1\n",
      "1        agro_industry_and_commerce   13.00         1\n",
      "2        agro_industry_and_commerce   19.50        12\n",
      "3        agro_industry_and_commerce   21.99         8\n",
      "4        agro_industry_and_commerce   22.00         3\n",
      "...                             ...     ...       ...\n",
      "14345                 watches_gifts  284.80         4\n",
      "14346                 watches_gifts  284.90         2\n",
      "14347                 watches_gifts  285.00         3\n",
      "14348                 watches_gifts  285.60         1\n",
      "14349                 watches_gifts  285.99         1\n",
      "\n",
      "[14350 rows x 3 columns]\n"
     ]
    }
   ],
   "source": [
    "# Menambah kolom baru pada ordered_product_count\n",
    "omzet_penjualan = olist_dataset_use4.groupby(['product_category_name_english', 'price'])['order_id'].count().reset_index()\n",
    "#menambah kolom omzet sebagai perkalian jumlah order x harga : \n",
    "print(omzet_penjualan)\n"
   ]
  },
  {
   "cell_type": "code",
   "execution_count": 19,
   "id": "8b1c0e97",
   "metadata": {},
   "outputs": [
    {
     "name": "stdout",
     "output_type": "stream",
     "text": [
      "      product_category_name_english   price  order_id    omzet\n",
      "0        agro_industry_and_commerce   12.99         1    12.99\n",
      "1        agro_industry_and_commerce   13.00         1    13.00\n",
      "2        agro_industry_and_commerce   19.50        12   234.00\n",
      "3        agro_industry_and_commerce   21.99         8   175.92\n",
      "4        agro_industry_and_commerce   22.00         3    66.00\n",
      "...                             ...     ...       ...      ...\n",
      "14345                 watches_gifts  284.80         4  1139.20\n",
      "14346                 watches_gifts  284.90         2   569.80\n",
      "14347                 watches_gifts  285.00         3   855.00\n",
      "14348                 watches_gifts  285.60         1   285.60\n",
      "14349                 watches_gifts  285.99         1   285.99\n",
      "\n",
      "[14350 rows x 4 columns]\n"
     ]
    }
   ],
   "source": [
    "omzet_penjualan['omzet'] = omzet_penjualan['price'] * omzet_penjualan['order_id']\n",
    "print(omzet_penjualan)"
   ]
  },
  {
   "cell_type": "code",
   "execution_count": 20,
   "id": "bb974aee",
   "metadata": {},
   "outputs": [
    {
     "name": "stdout",
     "output_type": "stream",
     "text": [
      "   product_category_name_english      omzet\n",
      "0     agro_industry_and_commerce    7313.33\n",
      "1               air_conditioning   26716.29\n",
      "2                            art   17058.17\n",
      "3          arts_and_craftmanship    1524.52\n",
      "4                          audio   25990.50\n",
      "..                           ...        ...\n",
      "66                    stationery  197612.72\n",
      "67        tablets_printing_image    6282.62\n",
      "68                     telephony  197519.72\n",
      "69                          toys  321798.93\n",
      "70                 watches_gifts  584650.29\n",
      "\n",
      "[71 rows x 2 columns]\n"
     ]
    }
   ],
   "source": [
    "total_omzet_per_category = omzet_penjualan.groupby('product_category_name_english')['omzet'].sum().reset_index()\n",
    "print(total_omzet_per_category)"
   ]
  },
  {
   "cell_type": "code",
   "execution_count": 21,
   "id": "afeea9c6",
   "metadata": {},
   "outputs": [
    {
     "name": "stdout",
     "output_type": "stream",
     "text": [
      "   product_category_name_english      omzet\n",
      "7                 bed_bath_table  883126.89\n",
      "65                sports_leisure  676068.54\n",
      "43                 health_beauty  648702.60\n",
      "15         computers_accessories  592233.74\n",
      "70                 watches_gifts  584650.29\n",
      "39               furniture_decor  538438.41\n",
      "49                    housewares  431550.48\n",
      "20                    cool_stuff  398872.93\n",
      "5                           auto  326628.15\n",
      "69                          toys  321798.93\n"
     ]
    }
   ],
   "source": [
    "# menyusun top 10 kategori produk yang diminati berdasarkan jumlah pembelian\n",
    "top10_omzet_product = total_omzet_per_category.sort_values('omzet', ascending=False).head(10)\n",
    "print(top10_omzet_product)"
   ]
  },
  {
   "cell_type": "code",
   "execution_count": 22,
   "id": "94b5a6d6",
   "metadata": {},
   "outputs": [
    {
     "data": {
      "text/plain": [
       "[Text(0, 0.5, 'Kategori Produk')]"
      ]
     },
     "execution_count": 22,
     "metadata": {},
     "output_type": "execute_result"
    },
    {
     "data": {
      "image/png": "[encoded data removed]",
      "text/plain": [
       "<Figure size 800x1500 with 1 Axes>"
      ]
     },
     "metadata": {},
     "output_type": "display_data"
    }
   ],
   "source": [
    "# membuat visualisasi horizontal bar plot top 10 produk dengan omzet penjualan tertinggi \n",
    "\n",
    "fig, ax = plt.subplots(figsize=(8, 15))\n",
    "\n",
    "ax = sns.barplot(data=top10_omzet_product, y='product_category_name_english', x='omzet',\n",
    "                 orient='h',\n",
    "                 order=top10_omzet_product.sort_values('omzet', ascending=False).product_category_name_english)\n",
    "\n",
    "for i in ax.containers:\n",
    "    ax.bar_label(i,)\n",
    "\n",
    "sns.despine()\n",
    "ax.set(title='Jumlah Omzet Penjualan Kategori Produk')\n",
    "ax.set(xlabel=None)\n",
    "ax.set(xticks=[])\n",
    "ax.set(ylabel='Kategori Produk')"
   ]
  },
  {
   "cell_type": "markdown",
   "id": "809a85e9",
   "metadata": {},
   "source": [
    "Berdasarkan perhitungan dan visualisasi omzet per kategori produk didapatkan urutan top 10 yang sedikit berbeda dengan urutan top 10 jumlah penjualan, namun untuk no 1 tetap kategori produk bed_bath_table."
   ]
  },
  {
   "cell_type": "markdown",
   "id": "4945bbde",
   "metadata": {},
   "source": [
    "### 3. Pertumbuhan pembelian produk dari produk yang paling diminati"
   ]
  },
  {
   "cell_type": "markdown",
   "id": "d28f29f7",
   "metadata": {},
   "source": [
    "Dari hasil analisa top 10 kategori produk yang paling diminati akan dianalisa pertumbuhan per tahunnya. "
   ]
  },
  {
   "cell_type": "code",
   "execution_count": 34,
   "id": "8ca89034",
   "metadata": {},
   "outputs": [
    {
     "name": "stdout",
     "output_type": "stream",
     "text": [
      "   product_category_name_english  order_id\n",
      "7                 bed_bath_table      9996\n",
      "43                 health_beauty      7911\n",
      "65                sports_leisure      7425\n",
      "15         computers_accessories      6556\n",
      "39               furniture_decor      6549\n",
      "49                    housewares      5740\n",
      "70                 watches_gifts      4888\n",
      "68                     telephony      4092\n",
      "69                          toys      3652\n",
      "5                           auto      3609\n"
     ]
    }
   ],
   "source": [
    "print(top10_popular_product)"
   ]
  },
  {
   "cell_type": "code",
   "execution_count": 23,
   "id": "0ed6ab47",
   "metadata": {},
   "outputs": [
    {
     "data": {
      "text/html": [
       "<div>\n",
       "<style scoped>\n",
       "    .dataframe tbody tr th:only-of-type {\n",
       "        vertical-align: middle;\n",
       "    }\n",
       "\n",
       "    .dataframe tbody tr th {\n",
       "        vertical-align: top;\n",
       "    }\n",
       "\n",
       "    .dataframe thead th {\n",
       "        text-align: right;\n",
       "    }\n",
       "</style>\n",
       "<table border=\"1\" class=\"dataframe\">\n",
       "  <thead>\n",
       "    <tr style=\"text-align: right;\">\n",
       "      <th></th>\n",
       "      <th>order_id</th>\n",
       "      <th>order_purchase_timestamp</th>\n",
       "      <th>product_id</th>\n",
       "      <th>price</th>\n",
       "      <th>product_category_name</th>\n",
       "      <th>product_category_name_english</th>\n",
       "      <th>order_purchase_timestamp_yearly</th>\n",
       "    </tr>\n",
       "  </thead>\n",
       "  <tbody>\n",
       "    <tr>\n",
       "      <th>0</th>\n",
       "      <td>e481f51cbdc54678b7cc49136f2d6af7</td>\n",
       "      <td>2017-10-02 10:56:33</td>\n",
       "      <td>87285b34884572647811a353c7ac498a</td>\n",
       "      <td>29.99</td>\n",
       "      <td>utilidades_domesticas</td>\n",
       "      <td>housewares</td>\n",
       "      <td>2017</td>\n",
       "    </tr>\n",
       "    <tr>\n",
       "      <th>1</th>\n",
       "      <td>53cdb2fc8bc7dce0b6741e2150273451</td>\n",
       "      <td>2018-07-24 20:41:37</td>\n",
       "      <td>595fac2a385ac33a80bd5114aec74eb8</td>\n",
       "      <td>118.70</td>\n",
       "      <td>perfumaria</td>\n",
       "      <td>perfumery</td>\n",
       "      <td>2018</td>\n",
       "    </tr>\n",
       "    <tr>\n",
       "      <th>2</th>\n",
       "      <td>47770eb9100c2d0c44946d9cf07ec65d</td>\n",
       "      <td>2018-08-08 08:38:49</td>\n",
       "      <td>aa4383b373c6aca5d8797843e5594415</td>\n",
       "      <td>159.90</td>\n",
       "      <td>automotivo</td>\n",
       "      <td>auto</td>\n",
       "      <td>2018</td>\n",
       "    </tr>\n",
       "    <tr>\n",
       "      <th>3</th>\n",
       "      <td>949d5b44dbf5de918fe9c16f97b45f8a</td>\n",
       "      <td>2017-11-18 19:28:06</td>\n",
       "      <td>d0b61bfb1de832b15ba9d266ca96e5b0</td>\n",
       "      <td>45.00</td>\n",
       "      <td>pet_shop</td>\n",
       "      <td>pet_shop</td>\n",
       "      <td>2017</td>\n",
       "    </tr>\n",
       "    <tr>\n",
       "      <th>4</th>\n",
       "      <td>ad21c59c0840e6cb83a9ceb5573f8159</td>\n",
       "      <td>2018-02-13 21:18:39</td>\n",
       "      <td>65266b2da20d04dbe00c5c2d3bb7859e</td>\n",
       "      <td>19.90</td>\n",
       "      <td>papelaria</td>\n",
       "      <td>stationery</td>\n",
       "      <td>2018</td>\n",
       "    </tr>\n",
       "    <tr>\n",
       "      <th>...</th>\n",
       "      <td>...</td>\n",
       "      <td>...</td>\n",
       "      <td>...</td>\n",
       "      <td>...</td>\n",
       "      <td>...</td>\n",
       "      <td>...</td>\n",
       "      <td>...</td>\n",
       "    </tr>\n",
       "    <tr>\n",
       "      <th>111017</th>\n",
       "      <td>9c5dedf39a927c1b2549525ed64a053c</td>\n",
       "      <td>2017-03-09 09:54:05</td>\n",
       "      <td>ac35486adb7b02598c182c2ff2e05254</td>\n",
       "      <td>72.00</td>\n",
       "      <td>beleza_saude</td>\n",
       "      <td>health_beauty</td>\n",
       "      <td>2017</td>\n",
       "    </tr>\n",
       "    <tr>\n",
       "      <th>111018</th>\n",
       "      <td>63943bddc261676b46f01ca7ac2f7bd8</td>\n",
       "      <td>2018-02-06 12:58:58</td>\n",
       "      <td>f1d4ce8c6dd66c47bbaa8c6781c2a923</td>\n",
       "      <td>174.90</td>\n",
       "      <td>bebes</td>\n",
       "      <td>baby</td>\n",
       "      <td>2018</td>\n",
       "    </tr>\n",
       "    <tr>\n",
       "      <th>111019</th>\n",
       "      <td>83c1379a015df1e13d02aae0204711ab</td>\n",
       "      <td>2017-08-27 14:46:43</td>\n",
       "      <td>b80910977a37536adeddd63663f916ad</td>\n",
       "      <td>205.99</td>\n",
       "      <td>eletrodomesticos_2</td>\n",
       "      <td>home_appliances_2</td>\n",
       "      <td>2017</td>\n",
       "    </tr>\n",
       "    <tr>\n",
       "      <th>111020</th>\n",
       "      <td>11c177c8e97725db2631073c19f07b62</td>\n",
       "      <td>2018-01-08 21:28:27</td>\n",
       "      <td>d1c427060a0f73f6b889a5c7c61f2ac4</td>\n",
       "      <td>179.99</td>\n",
       "      <td>informatica_acessorios</td>\n",
       "      <td>computers_accessories</td>\n",
       "      <td>2018</td>\n",
       "    </tr>\n",
       "    <tr>\n",
       "      <th>111022</th>\n",
       "      <td>66dea50a8b16d9b4dee7af250b4be1a5</td>\n",
       "      <td>2018-03-08 20:57:30</td>\n",
       "      <td>006619bbed68b000c8ba3f8725d5409e</td>\n",
       "      <td>68.50</td>\n",
       "      <td>beleza_saude</td>\n",
       "      <td>health_beauty</td>\n",
       "      <td>2018</td>\n",
       "    </tr>\n",
       "  </tbody>\n",
       "</table>\n",
       "<p>93302 rows × 7 columns</p>\n",
       "</div>"
      ],
      "text/plain": [
       "                                order_id order_purchase_timestamp  \\\n",
       "0       e481f51cbdc54678b7cc49136f2d6af7      2017-10-02 10:56:33   \n",
       "1       53cdb2fc8bc7dce0b6741e2150273451      2018-07-24 20:41:37   \n",
       "2       47770eb9100c2d0c44946d9cf07ec65d      2018-08-08 08:38:49   \n",
       "3       949d5b44dbf5de918fe9c16f97b45f8a      2017-11-18 19:28:06   \n",
       "4       ad21c59c0840e6cb83a9ceb5573f8159      2018-02-13 21:18:39   \n",
       "...                                  ...                      ...   \n",
       "111017  9c5dedf39a927c1b2549525ed64a053c      2017-03-09 09:54:05   \n",
       "111018  63943bddc261676b46f01ca7ac2f7bd8      2018-02-06 12:58:58   \n",
       "111019  83c1379a015df1e13d02aae0204711ab      2017-08-27 14:46:43   \n",
       "111020  11c177c8e97725db2631073c19f07b62      2018-01-08 21:28:27   \n",
       "111022  66dea50a8b16d9b4dee7af250b4be1a5      2018-03-08 20:57:30   \n",
       "\n",
       "                              product_id   price   product_category_name  \\\n",
       "0       87285b34884572647811a353c7ac498a   29.99   utilidades_domesticas   \n",
       "1       595fac2a385ac33a80bd5114aec74eb8  118.70              perfumaria   \n",
       "2       aa4383b373c6aca5d8797843e5594415  159.90              automotivo   \n",
       "3       d0b61bfb1de832b15ba9d266ca96e5b0   45.00                pet_shop   \n",
       "4       65266b2da20d04dbe00c5c2d3bb7859e   19.90               papelaria   \n",
       "...                                  ...     ...                     ...   \n",
       "111017  ac35486adb7b02598c182c2ff2e05254   72.00            beleza_saude   \n",
       "111018  f1d4ce8c6dd66c47bbaa8c6781c2a923  174.90                   bebes   \n",
       "111019  b80910977a37536adeddd63663f916ad  205.99      eletrodomesticos_2   \n",
       "111020  d1c427060a0f73f6b889a5c7c61f2ac4  179.99  informatica_acessorios   \n",
       "111022  006619bbed68b000c8ba3f8725d5409e   68.50            beleza_saude   \n",
       "\n",
       "       product_category_name_english  order_purchase_timestamp_yearly  \n",
       "0                         housewares                             2017  \n",
       "1                          perfumery                             2018  \n",
       "2                               auto                             2018  \n",
       "3                           pet_shop                             2017  \n",
       "4                         stationery                             2018  \n",
       "...                              ...                              ...  \n",
       "111017                 health_beauty                             2017  \n",
       "111018                          baby                             2018  \n",
       "111019             home_appliances_2                             2017  \n",
       "111020         computers_accessories                             2018  \n",
       "111022                 health_beauty                             2018  \n",
       "\n",
       "[93302 rows x 7 columns]"
      ]
     },
     "execution_count": 23,
     "metadata": {},
     "output_type": "execute_result"
    }
   ],
   "source": [
    "#ordered_product_yearly = olist_dataset_use4.groupby(['product_category_name_english'])['order_id'].count().reset_index()\n",
    "#menggandakan olist_dataset_use4\n",
    "olist_dataset_use5 = olist_dataset_use4.copy()\n",
    "olist_dataset_use5['order_purchase_timestamp_yearly'] = olist_dataset_use5['order_purchase_timestamp'].dt.year\n",
    "olist_dataset_use5"
   ]
  },
  {
   "cell_type": "code",
   "execution_count": 24,
   "id": "b3a74aff",
   "metadata": {},
   "outputs": [
    {
     "data": {
      "text/html": [
       "<div>\n",
       "<style scoped>\n",
       "    .dataframe tbody tr th:only-of-type {\n",
       "        vertical-align: middle;\n",
       "    }\n",
       "\n",
       "    .dataframe tbody tr th {\n",
       "        vertical-align: top;\n",
       "    }\n",
       "\n",
       "    .dataframe thead th {\n",
       "        text-align: right;\n",
       "    }\n",
       "</style>\n",
       "<table border=\"1\" class=\"dataframe\">\n",
       "  <thead>\n",
       "    <tr style=\"text-align: right;\">\n",
       "      <th></th>\n",
       "      <th>order_id</th>\n",
       "      <th>order_purchase_timestamp</th>\n",
       "      <th>product_id</th>\n",
       "      <th>price</th>\n",
       "      <th>product_category_name</th>\n",
       "      <th>product_category_name_english</th>\n",
       "      <th>order_purchase_timestamp_yearly</th>\n",
       "    </tr>\n",
       "  </thead>\n",
       "  <tbody>\n",
       "    <tr>\n",
       "      <th>13</th>\n",
       "      <td>5ff96c15d0b717ac6ad1f3d77225a350</td>\n",
       "      <td>2018-07-25 17:44:10</td>\n",
       "      <td>10adb53d8faa890ca7c2f0cbcb68d777</td>\n",
       "      <td>19.90</td>\n",
       "      <td>cama_mesa_banho</td>\n",
       "      <td>bed_bath_table</td>\n",
       "      <td>2018</td>\n",
       "    </tr>\n",
       "    <tr>\n",
       "      <th>18</th>\n",
       "      <td>85ce859fd6dc634de8d2f1e290444043</td>\n",
       "      <td>2017-11-21 00:03:41</td>\n",
       "      <td>cce679660c66e6fbd5c8091dfd29e9cd</td>\n",
       "      <td>17.90</td>\n",
       "      <td>cama_mesa_banho</td>\n",
       "      <td>bed_bath_table</td>\n",
       "      <td>2017</td>\n",
       "    </tr>\n",
       "    <tr>\n",
       "      <th>40</th>\n",
       "      <td>7206b86ea789983f7a273ea7fa0bc2a8</td>\n",
       "      <td>2018-03-26 17:12:18</td>\n",
       "      <td>9a469eaf45dfbc43d39ba1977a3c07af</td>\n",
       "      <td>36.90</td>\n",
       "      <td>cama_mesa_banho</td>\n",
       "      <td>bed_bath_table</td>\n",
       "      <td>2018</td>\n",
       "    </tr>\n",
       "    <tr>\n",
       "      <th>63</th>\n",
       "      <td>68873cf91053cd11e6b49a766db5af1a</td>\n",
       "      <td>2017-11-30 22:02:15</td>\n",
       "      <td>15a9e834e89eab39d973492882c658d6</td>\n",
       "      <td>79.90</td>\n",
       "      <td>cama_mesa_banho</td>\n",
       "      <td>bed_bath_table</td>\n",
       "      <td>2017</td>\n",
       "    </tr>\n",
       "    <tr>\n",
       "      <th>96</th>\n",
       "      <td>10c320f977c6a18f91b2d14be13128c6</td>\n",
       "      <td>2017-05-09 20:48:59</td>\n",
       "      <td>b3be1f83cef05668c25e134852d44545</td>\n",
       "      <td>110.99</td>\n",
       "      <td>cama_mesa_banho</td>\n",
       "      <td>bed_bath_table</td>\n",
       "      <td>2017</td>\n",
       "    </tr>\n",
       "    <tr>\n",
       "      <th>...</th>\n",
       "      <td>...</td>\n",
       "      <td>...</td>\n",
       "      <td>...</td>\n",
       "      <td>...</td>\n",
       "      <td>...</td>\n",
       "      <td>...</td>\n",
       "      <td>...</td>\n",
       "    </tr>\n",
       "    <tr>\n",
       "      <th>110955</th>\n",
       "      <td>a6bd1f93b7ff72cc348ca07f38ec4bee</td>\n",
       "      <td>2018-04-20 17:28:40</td>\n",
       "      <td>c045b19fdb30a3035c56d04c6fe2e622</td>\n",
       "      <td>59.90</td>\n",
       "      <td>cama_mesa_banho</td>\n",
       "      <td>bed_bath_table</td>\n",
       "      <td>2018</td>\n",
       "    </tr>\n",
       "    <tr>\n",
       "      <th>110980</th>\n",
       "      <td>a3480694574e74545579bf7d974318d0</td>\n",
       "      <td>2018-02-14 17:54:39</td>\n",
       "      <td>1a428b685ede76217c9efb550c4aaa59</td>\n",
       "      <td>22.90</td>\n",
       "      <td>cama_mesa_banho</td>\n",
       "      <td>bed_bath_table</td>\n",
       "      <td>2018</td>\n",
       "    </tr>\n",
       "    <tr>\n",
       "      <th>110982</th>\n",
       "      <td>41d74f5b8f1fb05bdec674cbba8f720f</td>\n",
       "      <td>2018-02-04 14:35:02</td>\n",
       "      <td>6fdbc2d597f906254d258d8d64d71925</td>\n",
       "      <td>39.00</td>\n",
       "      <td>cama_mesa_banho</td>\n",
       "      <td>bed_bath_table</td>\n",
       "      <td>2018</td>\n",
       "    </tr>\n",
       "    <tr>\n",
       "      <th>111001</th>\n",
       "      <td>6f46d42016226f77893ed3978d6903d0</td>\n",
       "      <td>2017-07-05 15:55:19</td>\n",
       "      <td>9cbe4a1fd4db99c14512e9b2ff033ec4</td>\n",
       "      <td>27.90</td>\n",
       "      <td>cama_mesa_banho</td>\n",
       "      <td>bed_bath_table</td>\n",
       "      <td>2017</td>\n",
       "    </tr>\n",
       "    <tr>\n",
       "      <th>111008</th>\n",
       "      <td>c22a47117b6a87c967b0c278488110c1</td>\n",
       "      <td>2018-06-22 20:53:29</td>\n",
       "      <td>337a76815f8f765a51535e787101c8fa</td>\n",
       "      <td>149.90</td>\n",
       "      <td>cama_mesa_banho</td>\n",
       "      <td>bed_bath_table</td>\n",
       "      <td>2018</td>\n",
       "    </tr>\n",
       "  </tbody>\n",
       "</table>\n",
       "<p>9996 rows × 7 columns</p>\n",
       "</div>"
      ],
      "text/plain": [
       "                                order_id order_purchase_timestamp  \\\n",
       "13      5ff96c15d0b717ac6ad1f3d77225a350      2018-07-25 17:44:10   \n",
       "18      85ce859fd6dc634de8d2f1e290444043      2017-11-21 00:03:41   \n",
       "40      7206b86ea789983f7a273ea7fa0bc2a8      2018-03-26 17:12:18   \n",
       "63      68873cf91053cd11e6b49a766db5af1a      2017-11-30 22:02:15   \n",
       "96      10c320f977c6a18f91b2d14be13128c6      2017-05-09 20:48:59   \n",
       "...                                  ...                      ...   \n",
       "110955  a6bd1f93b7ff72cc348ca07f38ec4bee      2018-04-20 17:28:40   \n",
       "110980  a3480694574e74545579bf7d974318d0      2018-02-14 17:54:39   \n",
       "110982  41d74f5b8f1fb05bdec674cbba8f720f      2018-02-04 14:35:02   \n",
       "111001  6f46d42016226f77893ed3978d6903d0      2017-07-05 15:55:19   \n",
       "111008  c22a47117b6a87c967b0c278488110c1      2018-06-22 20:53:29   \n",
       "\n",
       "                              product_id   price product_category_name  \\\n",
       "13      10adb53d8faa890ca7c2f0cbcb68d777   19.90       cama_mesa_banho   \n",
       "18      cce679660c66e6fbd5c8091dfd29e9cd   17.90       cama_mesa_banho   \n",
       "40      9a469eaf45dfbc43d39ba1977a3c07af   36.90       cama_mesa_banho   \n",
       "63      15a9e834e89eab39d973492882c658d6   79.90       cama_mesa_banho   \n",
       "96      b3be1f83cef05668c25e134852d44545  110.99       cama_mesa_banho   \n",
       "...                                  ...     ...                   ...   \n",
       "110955  c045b19fdb30a3035c56d04c6fe2e622   59.90       cama_mesa_banho   \n",
       "110980  1a428b685ede76217c9efb550c4aaa59   22.90       cama_mesa_banho   \n",
       "110982  6fdbc2d597f906254d258d8d64d71925   39.00       cama_mesa_banho   \n",
       "111001  9cbe4a1fd4db99c14512e9b2ff033ec4   27.90       cama_mesa_banho   \n",
       "111008  337a76815f8f765a51535e787101c8fa  149.90       cama_mesa_banho   \n",
       "\n",
       "       product_category_name_english  order_purchase_timestamp_yearly  \n",
       "13                    bed_bath_table                             2018  \n",
       "18                    bed_bath_table                             2017  \n",
       "40                    bed_bath_table                             2018  \n",
       "63                    bed_bath_table                             2017  \n",
       "96                    bed_bath_table                             2017  \n",
       "...                              ...                              ...  \n",
       "110955                bed_bath_table                             2018  \n",
       "110980                bed_bath_table                             2018  \n",
       "110982                bed_bath_table                             2018  \n",
       "111001                bed_bath_table                             2017  \n",
       "111008                bed_bath_table                             2018  \n",
       "\n",
       "[9996 rows x 7 columns]"
      ]
     },
     "execution_count": 24,
     "metadata": {},
     "output_type": "execute_result"
    }
   ],
   "source": [
    "# 1 pertumbuhan pemebelian produk bed_bath_table\n",
    "bed_bath_table_order = olist_dataset_use5[olist_dataset_use5.product_category_name_english == 'bed_bath_table']\n",
    "bed_bath_table_order"
   ]
  },
  {
   "cell_type": "code",
   "execution_count": 25,
   "id": "ebb67376",
   "metadata": {},
   "outputs": [
    {
     "data": {
      "text/html": [
       "<div>\n",
       "<style scoped>\n",
       "    .dataframe tbody tr th:only-of-type {\n",
       "        vertical-align: middle;\n",
       "    }\n",
       "\n",
       "    .dataframe tbody tr th {\n",
       "        vertical-align: top;\n",
       "    }\n",
       "\n",
       "    .dataframe thead th {\n",
       "        text-align: right;\n",
       "    }\n",
       "</style>\n",
       "<table border=\"1\" class=\"dataframe\">\n",
       "  <thead>\n",
       "    <tr style=\"text-align: right;\">\n",
       "      <th></th>\n",
       "      <th>order_purchase_timestamp_yearly</th>\n",
       "      <th>order_id</th>\n",
       "    </tr>\n",
       "  </thead>\n",
       "  <tbody>\n",
       "    <tr>\n",
       "      <th>0</th>\n",
       "      <td>2016</td>\n",
       "      <td>6</td>\n",
       "    </tr>\n",
       "    <tr>\n",
       "      <th>1</th>\n",
       "      <td>2017</td>\n",
       "      <td>4767</td>\n",
       "    </tr>\n",
       "    <tr>\n",
       "      <th>2</th>\n",
       "      <td>2018</td>\n",
       "      <td>5223</td>\n",
       "    </tr>\n",
       "  </tbody>\n",
       "</table>\n",
       "</div>"
      ],
      "text/plain": [
       "   order_purchase_timestamp_yearly  order_id\n",
       "0                             2016         6\n",
       "1                             2017      4767\n",
       "2                             2018      5223"
      ]
     },
     "execution_count": 25,
     "metadata": {},
     "output_type": "execute_result"
    }
   ],
   "source": [
    "bed_bath_table_order_yearly = bed_bath_table_order.groupby('order_purchase_timestamp_yearly')['order_id'].count().reset_index()\n",
    "bed_bath_table_order_yearly"
   ]
  },
  {
   "cell_type": "code",
   "execution_count": 26,
   "id": "217d6a5e",
   "metadata": {},
   "outputs": [
    {
     "data": {
      "text/plain": [
       "[Text(0, 0.5, 'Jumlah Pembelian')]"
      ]
     },
     "execution_count": 26,
     "metadata": {},
     "output_type": "execute_result"
    },
    {
     "data": {
      "image/png": "[encoded data removed]",
      "text/plain": [
       "<Figure size 640x480 with 1 Axes>"
      ]
     },
     "metadata": {},
     "output_type": "display_data"
    }
   ],
   "source": [
    "# membuat lineplot pertumbuhan pembelian kategori produk bed_bath_table pertahun\n",
    "\n",
    "ax = sns.lineplot(data=bed_bath_table_order_yearly, y='order_id', x='order_purchase_timestamp_yearly', marker='o')\n",
    "\n",
    "for index, row in bed_bath_table_order_yearly.iterrows():\n",
    "    plt.text(row['order_purchase_timestamp_yearly'], row['order_id'], str(row['order_id']),\n",
    "             ha='center', va='bottom')\n",
    "\n",
    "plt.xticks([2016, 2017, 2018])\n",
    "sns.despine()\n",
    "ax.set(title='Pertumbuhan pembelian bed_bath_table pertahun')\n",
    "ax.set(xlabel='Tahun')\n",
    "ax.set(ylabel='Jumlah Pembelian')"
   ]
  },
  {
   "cell_type": "code",
   "execution_count": null,
   "id": "cdca46a8",
   "metadata": {},
   "outputs": [],
   "source": []
  }
 ],
 "metadata": {
  "kernelspec": {
   "display_name": "Python 3 (ipykernel)",
   "language": "python",
   "name": "python3"
  },
  "language_info": {
   "codemirror_mode": {
    "name": "ipython",
    "version": 3
   },
   "file_extension": ".py",
   "mimetype": "text/x-python",
   "name": "python",
   "nbconvert_exporter": "python",
   "pygments_lexer": "ipython3",
   "version": "3.10.12"
  }
 },
 "nbformat": 4,
 "nbformat_minor": 5
}
